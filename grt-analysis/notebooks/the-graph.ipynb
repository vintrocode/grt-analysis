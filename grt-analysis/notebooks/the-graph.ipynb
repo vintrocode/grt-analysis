{
 "cells": [
  {
   "cell_type": "markdown",
   "id": "suitable-mainstream",
   "metadata": {},
   "source": [
    "# Querying The Graph\n",
    "\n",
    "\"The Graph\" is a protocol that indexes the blockchain. Ethereum blocks are jumbled messes of transactions, but The Graph provides an incentive for people to index those transactions and allows users (me) to query information from certain protocols via \"subgraphs\". So the goal of this notebook is to provide some exploration of those subgraphs. My goal is to find some interesting accounts, therefore I imagine I'll be spending most of my time with the Uniswap subgraph. We're also looking to gain some familiarity with GraphQL and how this whole protocol works."
   ]
  },
  {
   "cell_type": "code",
   "execution_count": 4,
   "id": "medical-phone",
   "metadata": {},
   "outputs": [],
   "source": [
    "import requests\n",
    "GRAPH_REQUEST_TIMEOUT = 10000"
   ]
  },
  {
   "cell_type": "code",
   "execution_count": 5,
   "id": "blond-stability",
   "metadata": {},
   "outputs": [],
   "source": [
    "# function definitions\n",
    "def uniswap_tokens(count=200):\n",
    "    print(\"getting uniswap tokens\")\n",
    "    headers = {}\n",
    "    query = \"\"\"\n",
    "    {\n",
    "    tokens(first: %(count)s, orderBy:tradeVolumeUSD, orderDirection:desc) {\n",
    "      id\n",
    "      symbol\n",
    "      name\n",
    "      decimals\n",
    "      tradeVolumeUSD\n",
    "      txCount\n",
    "    }\n",
    "    }\n",
    "    \"\"\" % { 'count': count }\n",
    "\n",
    "    request = requests.post('https://api.thegraph.com/subgraphs/name/uniswap/uniswap-v2',\n",
    "      json={'query': query}, headers=headers, timeout=GRAPH_REQUEST_TIMEOUT)\n",
    "    if request.status_code == 200:\n",
    "        return request.json()"
   ]
  },
  {
   "cell_type": "code",
   "execution_count": 7,
   "id": "settled-schema",
   "metadata": {},
   "outputs": [
    {
     "name": "stdout",
     "output_type": "stream",
     "text": [
      "getting uniswap tokens\n"
     ]
    }
   ],
   "source": [
    "tkns = uniswap_tokens()"
   ]
  },
  {
   "cell_type": "code",
   "execution_count": 27,
   "id": "second-right",
   "metadata": {},
   "outputs": [
    {
     "data": {
      "text/plain": [
       "{'decimals': '18',\n",
       " 'id': '0xc02aaa39b223fe8d0a0e5c4f27ead9083c756cc2',\n",
       " 'name': 'Wrapped Ether',\n",
       " 'symbol': 'WETH',\n",
       " 'tradeVolumeUSD': '76095788307.96646854642193949314064',\n",
       " 'txCount': '26332499'}"
      ]
     },
     "execution_count": 27,
     "metadata": {},
     "output_type": "execute_result"
    }
   ],
   "source": [
    "tkns['data']['tokens'][0]"
   ]
  },
  {
   "cell_type": "code",
   "execution_count": 47,
   "id": "digital-cleveland",
   "metadata": {},
   "outputs": [],
   "source": [
    "def uniswap_transactions(count=10):\n",
    "    print(\"getting uniswap transactions\")\n",
    "    headers = {}\n",
    "    query = \"\"\"\n",
    "    {\n",
    "    transactions(first: %(count)s, orderBy:timestamp, orderDirection:desc) {\n",
    "      id\n",
    "      blockNumber\n",
    "      timestamp\n",
    "      mints {\n",
    "        id\n",
    "      }\n",
    "      burns {\n",
    "        id\n",
    "      }\n",
    "      swaps {\n",
    "        id\n",
    "      }\n",
    "    }\n",
    "    }\n",
    "    \"\"\" % { 'count': count }\n",
    "    \n",
    "    request = requests.post('https://api.thegraph.com/subgraphs/name/uniswap/uniswap-v2',\n",
    "                           json={'query':query}, headers=headers, timeout=GRAPH_REQUEST_TIMEOUT)\n",
    "    if request.status_code == 200:\n",
    "        print(\"done\")\n",
    "        return request.json()"
   ]
  },
  {
   "cell_type": "code",
   "execution_count": 48,
   "id": "automotive-pharmacology",
   "metadata": {},
   "outputs": [
    {
     "name": "stdout",
     "output_type": "stream",
     "text": [
      "getting uniswap transactions\n",
      "done\n"
     ]
    }
   ],
   "source": [
    "txns = uniswap_transactions()"
   ]
  },
  {
   "cell_type": "code",
   "execution_count": 50,
   "id": "durable-marks",
   "metadata": {},
   "outputs": [
    {
     "data": {
      "text/plain": [
       "[{'blockNumber': '11825765',\n",
       "  'burns': [],\n",
       "  'id': '0x1236fbdf7c3dd0162476e5a31d90e5de4c43079f3c153268c153966db175c82d',\n",
       "  'mints': [],\n",
       "  'swaps': [{'id': '0x1236fbdf7c3dd0162476e5a31d90e5de4c43079f3c153268c153966db175c82d-0'}],\n",
       "  'timestamp': '1612919982'},\n",
       " {'blockNumber': '11825765',\n",
       "  'burns': [],\n",
       "  'id': '0x125502aea86591d0d9398882950f6f6c10ded241db74530da50e2bc35762728c',\n",
       "  'mints': [],\n",
       "  'swaps': [{'id': '0x125502aea86591d0d9398882950f6f6c10ded241db74530da50e2bc35762728c-0'},\n",
       "   {'id': '0x125502aea86591d0d9398882950f6f6c10ded241db74530da50e2bc35762728c-1'}],\n",
       "  'timestamp': '1612919982'},\n",
       " {'blockNumber': '11825765',\n",
       "  'burns': [],\n",
       "  'id': '0x21a880086cf5f3a012d837ed50b4ccf9a44c16c9fe1c197ad86f5b0c9c2763d9',\n",
       "  'mints': [],\n",
       "  'swaps': [{'id': '0x21a880086cf5f3a012d837ed50b4ccf9a44c16c9fe1c197ad86f5b0c9c2763d9-0'},\n",
       "   {'id': '0x21a880086cf5f3a012d837ed50b4ccf9a44c16c9fe1c197ad86f5b0c9c2763d9-1'},\n",
       "   {'id': '0x21a880086cf5f3a012d837ed50b4ccf9a44c16c9fe1c197ad86f5b0c9c2763d9-2'},\n",
       "   {'id': '0x21a880086cf5f3a012d837ed50b4ccf9a44c16c9fe1c197ad86f5b0c9c2763d9-3'}],\n",
       "  'timestamp': '1612919982'},\n",
       " {'blockNumber': '11825765',\n",
       "  'burns': [],\n",
       "  'id': '0x289ad2d54d2a59e4611c95d2dd3cd51fce533ea29d143fdd031c8075076ab971',\n",
       "  'mints': [],\n",
       "  'swaps': [{'id': '0x289ad2d54d2a59e4611c95d2dd3cd51fce533ea29d143fdd031c8075076ab971-0'}],\n",
       "  'timestamp': '1612919982'},\n",
       " {'blockNumber': '11825765',\n",
       "  'burns': [],\n",
       "  'id': '0x2e02a009eb2de1f953408f871775c95f97eaf3147976c30074873989b41a726a',\n",
       "  'mints': [],\n",
       "  'swaps': [{'id': '0x2e02a009eb2de1f953408f871775c95f97eaf3147976c30074873989b41a726a-0'}],\n",
       "  'timestamp': '1612919982'},\n",
       " {'blockNumber': '11825765',\n",
       "  'burns': [],\n",
       "  'id': '0x30f108046d0d4e5b24fe445f347aed7708cfba32efe5357162f89fa7013b167c',\n",
       "  'mints': [],\n",
       "  'swaps': [{'id': '0x30f108046d0d4e5b24fe445f347aed7708cfba32efe5357162f89fa7013b167c-0'}],\n",
       "  'timestamp': '1612919982'},\n",
       " {'blockNumber': '11825765',\n",
       "  'burns': [],\n",
       "  'id': '0x33ee7260ceb14e1bdce309d749b90a2685a1106bb792e8f0f76176502add29b4',\n",
       "  'mints': [],\n",
       "  'swaps': [{'id': '0x33ee7260ceb14e1bdce309d749b90a2685a1106bb792e8f0f76176502add29b4-0'}],\n",
       "  'timestamp': '1612919982'},\n",
       " {'blockNumber': '11825765',\n",
       "  'burns': [],\n",
       "  'id': '0x3f15dc4629f430379cb38445b42d2c96257a85ca44c2b7785fc4f3590992c51f',\n",
       "  'mints': [],\n",
       "  'swaps': [{'id': '0x3f15dc4629f430379cb38445b42d2c96257a85ca44c2b7785fc4f3590992c51f-0'}],\n",
       "  'timestamp': '1612919982'},\n",
       " {'blockNumber': '11825765',\n",
       "  'burns': [],\n",
       "  'id': '0x47fdd7f39337a3dcd1886246995feed262cb6d6adf360c9292e9a13847ff0206',\n",
       "  'mints': [],\n",
       "  'swaps': [{'id': '0x47fdd7f39337a3dcd1886246995feed262cb6d6adf360c9292e9a13847ff0206-0'}],\n",
       "  'timestamp': '1612919982'},\n",
       " {'blockNumber': '11825765',\n",
       "  'burns': [],\n",
       "  'id': '0x49dc4cca1cc0d38883539b232dc597e61b3d7dc8da8fa1cc4e860351df417052',\n",
       "  'mints': [],\n",
       "  'swaps': [{'id': '0x49dc4cca1cc0d38883539b232dc597e61b3d7dc8da8fa1cc4e860351df417052-0'}],\n",
       "  'timestamp': '1612919982'}]"
      ]
     },
     "execution_count": 50,
     "metadata": {},
     "output_type": "execute_result"
    }
   ],
   "source": [
    "txn_ids"
   ]
  },
  {
   "cell_type": "code",
   "execution_count": null,
   "id": "proud-vocabulary",
   "metadata": {},
   "outputs": [],
   "source": []
  }
 ],
 "metadata": {
  "kernelspec": {
   "display_name": "Python 3",
   "language": "python",
   "name": "python3"
  },
  "language_info": {
   "codemirror_mode": {
    "name": "ipython",
    "version": 3
   },
   "file_extension": ".py",
   "mimetype": "text/x-python",
   "name": "python",
   "nbconvert_exporter": "python",
   "pygments_lexer": "ipython3",
   "version": "3.8.6"
  }
 },
 "nbformat": 4,
 "nbformat_minor": 5
}
