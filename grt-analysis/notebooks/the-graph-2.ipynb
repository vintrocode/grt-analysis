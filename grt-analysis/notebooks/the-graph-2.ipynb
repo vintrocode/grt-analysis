{
 "cells": [
  {
   "cell_type": "markdown",
   "id": "answering-civilian",
   "metadata": {},
   "source": [
    "# Deeper Exploration of The Graph\n",
    "\n",
    "My next experiment will be to write code that can query $n$ transactions from uniswap subgraph, get the addresses of the accounts that performed those transactions and use them to get the specific account activity. Then, count the number of transactions they've performed over the last week, iterate on that until I've got a decent amount of accounts' weekly transaction numbers and visualize that distribution... I would expect a skewed distribution where bots have a significantly higher amount of transactions than most accounts but we'll see.  \n",
    "I can use that to determine a naive \"threshold\" to cut off hft bots from more interesting activity... then drill down on those more interesting accounts.   \n",
    "I think the next step then would be to figure out how to evaluate that weekly performance. If we can sort on some metric of success (maybe account % increase?) then we might be able to cherry pick a few exemplary accounts demonstrating some of the \"pause\", \"play\", or \"shuffle\" strategies."
   ]
  },
  {
   "cell_type": "code",
   "execution_count": 1,
   "id": "variable-sleep",
   "metadata": {},
   "outputs": [
    {
     "data": {
      "text/html": [
       "<style type='text/css'>\n",
       ".datatable table.frame { margin-bottom: 0; }\n",
       ".datatable table.frame thead { border-bottom: none; }\n",
       ".datatable table.frame tr.coltypes td {  color: #FFFFFF;  line-height: 6px;  padding: 0 0.5em;}\n",
       ".datatable .bool    { background: #DDDD99; }\n",
       ".datatable .object  { background: #565656; }\n",
       ".datatable .int     { background: #5D9E5D; }\n",
       ".datatable .float   { background: #4040CC; }\n",
       ".datatable .str     { background: #CC4040; }\n",
       ".datatable .row_index {  background: var(--jp-border-color3);  border-right: 1px solid var(--jp-border-color0);  color: var(--jp-ui-font-color3);  font-size: 9px;}\n",
       ".datatable .frame tr.coltypes .row_index {  background: var(--jp-border-color0);}\n",
       ".datatable th:nth-child(2) { padding-left: 12px; }\n",
       ".datatable .hellipsis {  color: var(--jp-cell-editor-border-color);}\n",
       ".datatable .vellipsis {  background: var(--jp-layout-color0);  color: var(--jp-cell-editor-border-color);}\n",
       ".datatable .na {  color: var(--jp-cell-editor-border-color);  font-size: 80%;}\n",
       ".datatable .footer { font-size: 9px; }\n",
       ".datatable .frame_dimensions {  background: var(--jp-border-color3);  border-top: 1px solid var(--jp-border-color0);  color: var(--jp-ui-font-color3);  display: inline-block;  opacity: 0.6;  padding: 1px 10px 1px 5px;}\n",
       "</style>\n"
      ],
      "text/plain": [
       "<IPython.core.display.HTML object>"
      ]
     },
     "metadata": {},
     "output_type": "display_data"
    }
   ],
   "source": [
    "import requests\n",
    "import json\n",
    "from web3 import Web3\n",
    "import datatable as dt\n",
    "\n",
    "# pip install etherscan-python\n",
    "from etherscan import Etherscan\n",
    "\n",
    "GRAPH_REQUEST_TIMEOUT = 10000\n",
    "with open('api_key.json', mode='r') as key_file:\n",
    "    API_KEY = json.loads(key_file.read())['key']\n",
    "    \n",
    "eth = Etherscan(API_KEY)\n",
    "\n",
    "infura_url = \"https://mainnet.infura.io/v3/9c8c7a4e9f85467eb1e298ab3431659f\"\n",
    "web3 = Web3(Web3.HTTPProvider(infura_url))"
   ]
  },
  {
   "cell_type": "code",
   "execution_count": 2,
   "id": "serious-applicant",
   "metadata": {},
   "outputs": [],
   "source": [
    "# query n transactions from the graph\n",
    "def uniswap_transactions(count):\n",
    "    print(\"getting {} uniswap transactions\".format(count))\n",
    "    headers = {}\n",
    "    query = \"\"\"\n",
    "    {\n",
    "    transactions(first: %(count)s, orderBy:timestamp, orderDirection:desc) {\n",
    "      id\n",
    "      blockNumber\n",
    "      timestamp\n",
    "      mints {\n",
    "        id\n",
    "      }\n",
    "      burns {\n",
    "        id\n",
    "      }\n",
    "      swaps {\n",
    "        id\n",
    "      }\n",
    "    }\n",
    "    }\n",
    "    \"\"\" % { 'count': count }\n",
    "    \n",
    "    request = requests.post('https://api.thegraph.com/subgraphs/name/uniswap/uniswap-v2',\n",
    "                           json={'query':query}, headers=headers, timeout=GRAPH_REQUEST_TIMEOUT)\n",
    "    if request.status_code == 200:\n",
    "        print(\"done\")\n",
    "        return request.json()"
   ]
  },
  {
   "cell_type": "code",
   "execution_count": 3,
   "id": "personal-mumbai",
   "metadata": {},
   "outputs": [],
   "source": [
    "# get the addresses of those accounts\n",
    "def getAddresses(txns):\n",
    "    # first need to get the txn ids\n",
    "    ids = [x['id'] for x in txns['data']['transactions']]\n",
    "    # then get the wallet addresses in those txn ids\n",
    "    addresses = [web3.eth.getTransaction(tx)['from'] for tx in ids]   # returns the receipt, parse the 'from' field\n",
    "    return addresses"
   ]
  },
  {
   "cell_type": "code",
   "execution_count": 4,
   "id": "unavailable-federation",
   "metadata": {},
   "outputs": [
    {
     "name": "stdout",
     "output_type": "stream",
     "text": [
      "getting 10 uniswap transactions\n",
      "done\n"
     ]
    }
   ],
   "source": [
    "txns = uniswap_transactions(10)\n",
    "addresses = getAddresses(txns)"
   ]
  },
  {
   "cell_type": "code",
   "execution_count": 27,
   "id": "revolutionary-sherman",
   "metadata": {},
   "outputs": [
    {
     "data": {
      "text/html": [
       "<div class='datatable'>\n",
       "  <table class='frame'>\n",
       "  <thead>\n",
       "    <tr class='colnames'><td class='row_index'></td><th>address</th><th>num_txns</th><th>startblock</th><th>endblock</th></tr>\n",
       "    <tr class='coltypes'><td class='row_index'></td><td class='str' title='str32'>&#x25AA;&#x25AA;&#x25AA;&#x25AA;</td><td class='int' title='int32'>&#x25AA;&#x25AA;&#x25AA;&#x25AA;</td><td class='int' title='int32'>&#x25AA;&#x25AA;&#x25AA;&#x25AA;</td><td class='int' title='int32'>&#x25AA;&#x25AA;&#x25AA;&#x25AA;</td></tr>\n",
       "  </thead>\n",
       "  <tbody>\n",
       "    <tr><td class='row_index'>0</td><td>0x7e9c084c78E1B688d9aB11505aAfc5c491904d8b</td><td>52</td><td>1870000</td><td>11918179</td></tr>\n",
       "    <tr><td class='row_index'>1</td><td>0x00000000C381296Cf32A0Bff0f3dD75dA313a1B7</td><td>187</td><td>1870000</td><td>11918179</td></tr>\n",
       "    <tr><td class='row_index'>2</td><td>0x000000003a5154bC2A032AEb96f71b67Af9E31B0</td><td>210</td><td>1870000</td><td>11918179</td></tr>\n",
       "    <tr><td class='row_index'>3</td><td>0x6de2b77d89759C1275b99175494E29299F845CBc</td><td>3434</td><td>1870000</td><td>11918179</td></tr>\n",
       "    <tr><td class='row_index'>4</td><td>0x23f0f3A0250B3B828795Bd83FbD158930793CFff</td><td>22</td><td>1870000</td><td>11918179</td></tr>\n",
       "    <tr><td class='row_index'>5</td><td>0xF5ADE58B10dFE64005eF10bb9073734e82f5EDaa</td><td>34</td><td>1870000</td><td>11918179</td></tr>\n",
       "    <tr><td class='row_index'>6</td><td>0xD7e2Fa6cd8640660432B9531c0971A66235E3a63</td><td>742</td><td>1870000</td><td>11918179</td></tr>\n",
       "    <tr><td class='row_index'>7</td><td>0x1d9118FD4391560fbE48289f3DCea8F4D84c74F0</td><td>15</td><td>1870000</td><td>11918179</td></tr>\n",
       "    <tr><td class='row_index'>8</td><td>0x6Ca4a08E27ADfd51240ec58902282162A5F35679</td><td>11</td><td>1870000</td><td>11918179</td></tr>\n",
       "    <tr><td class='row_index'>9</td><td>0xE0E484Dfa7F3aA36733A915D6f07EB5a57A74a11</td><td>29</td><td>1870000</td><td>11918179</td></tr>\n",
       "  </tbody>\n",
       "  </table>\n",
       "  <div class='footer'>\n",
       "    <div class='frame_dimensions'>10 rows &times; 4 columns</div>\n",
       "  </div>\n",
       "</div>\n"
      ],
      "text/plain": [
       "<Frame#7f3c1e7b71e0 10x4>"
      ]
     },
     "execution_count": 27,
     "metadata": {},
     "output_type": "execute_result"
    }
   ],
   "source": [
    "# get each address's weekly transactions -- use etherscan api package\n",
    "# NOTE: returns the last 10k events\n",
    "# @params: address (str), startblock (int), endblock (int), sort (str)\n",
    "features = ['address', 'num_txns', 'startblock', 'endblock']\n",
    "master = dt.Frame(names=features)\n",
    "for addr in addresses:\n",
    "    num_txns = len(eth.get_normal_txs_by_address(addr, 11870000, 11918179, 'desc'))    # block difference approximately a week\n",
    "    row = [[addr], [num_txns], [1870000], [11918179]]\n",
    "    temp = dt.Frame(row, names=features)\n",
    "    master.rbind(temp)    # we might have dups, datatable's unique fn is \"different\"\n",
    "master"
   ]
  },
  {
   "cell_type": "code",
   "execution_count": 36,
   "id": "bizarre-manor",
   "metadata": {},
   "outputs": [
    {
     "data": {
      "text/plain": [
       "10"
      ]
     },
     "execution_count": 36,
     "metadata": {},
     "output_type": "execute_result"
    }
   ],
   "source": [
    "master.nrows"
   ]
  },
  {
   "cell_type": "code",
   "execution_count": 40,
   "id": "theoretical-bloom",
   "metadata": {},
   "outputs": [],
   "source": [
    "master.to_csv(\"../data/raw/uniswap_txns.csv\")"
   ]
  },
  {
   "cell_type": "code",
   "execution_count": null,
   "id": "ethical-conservative",
   "metadata": {},
   "outputs": [],
   "source": []
  }
 ],
 "metadata": {
  "kernelspec": {
   "display_name": "Python 3",
   "language": "python",
   "name": "python3"
  },
  "language_info": {
   "codemirror_mode": {
    "name": "ipython",
    "version": 3
   },
   "file_extension": ".py",
   "mimetype": "text/x-python",
   "name": "python",
   "nbconvert_exporter": "python",
   "pygments_lexer": "ipython3",
   "version": "3.8.6"
  }
 },
 "nbformat": 4,
 "nbformat_minor": 5
}
