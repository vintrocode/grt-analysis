{
 "cells": [
  {
   "cell_type": "markdown",
   "id": "coordinated-shame",
   "metadata": {},
   "source": [
    "# Deeper Exploration of The Graph\n",
    "\n",
    "My next experiment will be to write code that can query $n$ transactions from uniswap subgraph, get the addresses of the accounts that performed those transactions and use them to get the specific account activity. Then, count the number of transactions they've performed over the last week, iterate on that until I've got a decent amount of accounts' weekly transaction numbers and visualize that distribution... I would expect a skewed distribution where bots have a significantly higher amount of transactions than most accounts but we'll see.  \n",
    "I can use that to determine a naive \"threshold\" to cut off hft bots from more interesting activity... then drill down on those more interesting accounts.   \n",
    "I think the next step then would be to figure out how to evaluate that weekly performance. If we can sort on some metric of success (maybe account % increase?) then we might be able to cherry pick a few exemplary accounts demonstrating some of the \"pause\", \"play\", or \"shuffle\" strategies."
   ]
  },
  {
   "cell_type": "code",
   "execution_count": 1,
   "id": "ecological-buffer",
   "metadata": {},
   "outputs": [],
   "source": [
    "import requests\n",
    "import json\n",
    "from web3 import Web3\n",
    "\n",
    "# pip install etherscan-python\n",
    "from etherscan import Etherscan\n",
    "\n",
    "GRAPH_REQUEST_TIMEOUT = 10000\n",
    "with open('api_key.json', mode='r') as key_file:\n",
    "    API_KEY = json.loads(key_file.read())['key']\n",
    "    \n",
    "eth = Etherscan(API_KEY)\n",
    "\n",
    "infura_url = \"https://mainnet.infura.io/v3/9c8c7a4e9f85467eb1e298ab3431659f\"\n",
    "web3 = Web3(Web3.HTTPProvider(infura_url))"
   ]
  },
  {
   "cell_type": "code",
   "execution_count": 2,
   "id": "irish-produce",
   "metadata": {},
   "outputs": [],
   "source": [
    "# query n transactions from the graph\n",
    "def uniswap_transactions(count):\n",
    "    print(\"getting {} uniswap transactions\".format(count))\n",
    "    headers = {}\n",
    "    query = \"\"\"\n",
    "    {\n",
    "    transactions(first: %(count)s, orderBy:timestamp, orderDirection:desc) {\n",
    "      id\n",
    "      blockNumber\n",
    "      timestamp\n",
    "      mints {\n",
    "        id\n",
    "      }\n",
    "      burns {\n",
    "        id\n",
    "      }\n",
    "      swaps {\n",
    "        id\n",
    "      }\n",
    "    }\n",
    "    }\n",
    "    \"\"\" % { 'count': count }\n",
    "    \n",
    "    request = requests.post('https://api.thegraph.com/subgraphs/name/uniswap/uniswap-v2',\n",
    "                           json={'query':query}, headers=headers, timeout=GRAPH_REQUEST_TIMEOUT)\n",
    "    if request.status_code == 200:\n",
    "        print(\"done\")\n",
    "        return request.json()"
   ]
  },
  {
   "cell_type": "code",
   "execution_count": 3,
   "id": "collectible-basket",
   "metadata": {},
   "outputs": [],
   "source": [
    "# get the addresses of those accounts\n",
    "def getAddresses(txns):\n",
    "    # first need to get the txn ids\n",
    "    ids = [x['id'] for x in txns['data']['transactions']]\n",
    "    # then get the wallet addresses in those txn ids\n",
    "    addresses = [web3.eth.getTransaction(tx)['from'] for tx in ids]   # returns the receipt, parse the 'from' field\n",
    "    return addresses"
   ]
  },
  {
   "cell_type": "code",
   "execution_count": 4,
   "id": "traditional-warrior",
   "metadata": {},
   "outputs": [
    {
     "name": "stdout",
     "output_type": "stream",
     "text": [
      "getting 10 uniswap transactions\n",
      "done\n"
     ]
    }
   ],
   "source": [
    "txns = uniswap_transactions(10)\n",
    "addresses = getAddresses(txns)"
   ]
  },
  {
   "cell_type": "code",
   "execution_count": 5,
   "id": "charming-period",
   "metadata": {},
   "outputs": [
    {
     "data": {
      "text/plain": [
       "['0x9f5ae9A77c709754c5eC26e7b0ac34061eE6D69c',\n",
       " '0x1D86C0da994Eff5132fe1f8c1Ea0F6b1eE2f2B8d',\n",
       " '0xEeeEeeeec58706fF86d18BE81296FdDC7A96934a',\n",
       " '0x288457a12496cbaF6e51Aa4F306dA1DC6ddeBF1D',\n",
       " '0x4a420e0878b63775FF4f4DB22B4cEf3439714693',\n",
       " '0x30653411Eb9F2560883c9BA1E2133d66a5610936',\n",
       " '0x2D35eD31D43d6bF5CCc5D7A085fE1eA9829A64D1',\n",
       " '0x32Cd1F7BdaE90B87E9b58d25d2ef7b09f6A9B548',\n",
       " '0xD986866Fbba56555D06d7a8FD2E1e22eA4B34A50',\n",
       " '0xE928a2d1fe385d776fD448Ec5D5F85ED0E8F07Bb']"
      ]
     },
     "execution_count": 5,
     "metadata": {},
     "output_type": "execute_result"
    }
   ],
   "source": [
    "addresses"
   ]
  },
  {
   "cell_type": "code",
   "execution_count": 38,
   "id": "accessory-ancient",
   "metadata": {},
   "outputs": [
    {
     "data": {
      "text/plain": [
       "5"
      ]
     },
     "execution_count": 38,
     "metadata": {},
     "output_type": "execute_result"
    }
   ],
   "source": [
    "# get each address's weekly transactions -- use etherscan api package\n",
    "# NOTE: returns the last 10k events\n",
    "# @params: address (str), startblock (int), endblock (int), sort (str)\n",
    "eth.get_normal_txs_by_address(addresses[0], 11870000, 11918179, 'desc')    # block difference approximately a week"
   ]
  },
  {
   "cell_type": "code",
   "execution_count": null,
   "id": "improved-grant",
   "metadata": {},
   "outputs": [],
   "source": [
    "# create pandas df with < address | external_tx_count | startblock | endblock >"
   ]
  }
 ],
 "metadata": {
  "kernelspec": {
   "display_name": "Python 3",
   "language": "python",
   "name": "python3"
  },
  "language_info": {
   "codemirror_mode": {
    "name": "ipython",
    "version": 3
   },
   "file_extension": ".py",
   "mimetype": "text/x-python",
   "name": "python",
   "nbconvert_exporter": "python",
   "pygments_lexer": "ipython3",
   "version": "3.8.6"
  }
 },
 "nbformat": 4,
 "nbformat_minor": 5
}
